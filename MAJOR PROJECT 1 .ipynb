{
 "cells": [
  {
   "cell_type": "code",
   "execution_count": 1,
   "id": "6becebb6",
   "metadata": {},
   "outputs": [],
   "source": [
    "import pandas as pd\n",
    "from sklearn.feature_extraction.text import TfidfVectorizer\n",
    "from sklearn.model_selection import train_test_split\n",
    "from sklearn.naive_bayes import MultinomialNB\n",
    "from sklearn.metrics import accuracy_score, classification_report\n",
    "from nltk.corpus import stopwords\n",
    "from nltk.tokenize import word_tokenize\n",
    "from nltk.stem import PorterStemmer\n",
    "\n",
    "# Read data from Excel\n",
    "df = pd.read_excel(\"Placement_Data.xlsx\")"
   ]
  },
  {
   "cell_type": "code",
   "execution_count": 2,
   "id": "b4894af3",
   "metadata": {},
   "outputs": [
    {
     "data": {
      "text/plain": [
       "{'a',\n",
       " 'about',\n",
       " 'above',\n",
       " 'after',\n",
       " 'again',\n",
       " 'against',\n",
       " 'ain',\n",
       " 'all',\n",
       " 'am',\n",
       " 'an',\n",
       " 'and',\n",
       " 'any',\n",
       " 'are',\n",
       " 'aren',\n",
       " \"aren't\",\n",
       " 'as',\n",
       " 'at',\n",
       " 'be',\n",
       " 'because',\n",
       " 'been',\n",
       " 'before',\n",
       " 'being',\n",
       " 'below',\n",
       " 'between',\n",
       " 'both',\n",
       " 'but',\n",
       " 'by',\n",
       " 'can',\n",
       " 'couldn',\n",
       " \"couldn't\",\n",
       " 'd',\n",
       " 'did',\n",
       " 'didn',\n",
       " \"didn't\",\n",
       " 'do',\n",
       " 'does',\n",
       " 'doesn',\n",
       " \"doesn't\",\n",
       " 'doing',\n",
       " 'don',\n",
       " \"don't\",\n",
       " 'down',\n",
       " 'during',\n",
       " 'each',\n",
       " 'few',\n",
       " 'for',\n",
       " 'from',\n",
       " 'further',\n",
       " 'had',\n",
       " 'hadn',\n",
       " \"hadn't\",\n",
       " 'has',\n",
       " 'hasn',\n",
       " \"hasn't\",\n",
       " 'have',\n",
       " 'haven',\n",
       " \"haven't\",\n",
       " 'having',\n",
       " 'he',\n",
       " 'her',\n",
       " 'here',\n",
       " 'hers',\n",
       " 'herself',\n",
       " 'him',\n",
       " 'himself',\n",
       " 'his',\n",
       " 'how',\n",
       " 'i',\n",
       " 'if',\n",
       " 'in',\n",
       " 'into',\n",
       " 'is',\n",
       " 'isn',\n",
       " \"isn't\",\n",
       " 'it',\n",
       " \"it's\",\n",
       " 'its',\n",
       " 'itself',\n",
       " 'just',\n",
       " 'll',\n",
       " 'm',\n",
       " 'ma',\n",
       " 'me',\n",
       " 'mightn',\n",
       " \"mightn't\",\n",
       " 'more',\n",
       " 'most',\n",
       " 'mustn',\n",
       " \"mustn't\",\n",
       " 'my',\n",
       " 'myself',\n",
       " 'needn',\n",
       " \"needn't\",\n",
       " 'no',\n",
       " 'nor',\n",
       " 'not',\n",
       " 'now',\n",
       " 'o',\n",
       " 'of',\n",
       " 'off',\n",
       " 'on',\n",
       " 'once',\n",
       " 'only',\n",
       " 'or',\n",
       " 'other',\n",
       " 'our',\n",
       " 'ours',\n",
       " 'ourselves',\n",
       " 'out',\n",
       " 'over',\n",
       " 'own',\n",
       " 're',\n",
       " 's',\n",
       " 'same',\n",
       " 'shan',\n",
       " \"shan't\",\n",
       " 'she',\n",
       " \"she's\",\n",
       " 'should',\n",
       " \"should've\",\n",
       " 'shouldn',\n",
       " \"shouldn't\",\n",
       " 'so',\n",
       " 'some',\n",
       " 'such',\n",
       " 't',\n",
       " 'than',\n",
       " 'that',\n",
       " \"that'll\",\n",
       " 'the',\n",
       " 'their',\n",
       " 'theirs',\n",
       " 'them',\n",
       " 'themselves',\n",
       " 'then',\n",
       " 'there',\n",
       " 'these',\n",
       " 'they',\n",
       " 'this',\n",
       " 'those',\n",
       " 'through',\n",
       " 'to',\n",
       " 'too',\n",
       " 'under',\n",
       " 'until',\n",
       " 'up',\n",
       " 've',\n",
       " 'very',\n",
       " 'was',\n",
       " 'wasn',\n",
       " \"wasn't\",\n",
       " 'we',\n",
       " 'were',\n",
       " 'weren',\n",
       " \"weren't\",\n",
       " 'what',\n",
       " 'when',\n",
       " 'where',\n",
       " 'which',\n",
       " 'while',\n",
       " 'who',\n",
       " 'whom',\n",
       " 'why',\n",
       " 'will',\n",
       " 'with',\n",
       " 'won',\n",
       " \"won't\",\n",
       " 'wouldn',\n",
       " \"wouldn't\",\n",
       " 'y',\n",
       " 'you',\n",
       " \"you'd\",\n",
       " \"you'll\",\n",
       " \"you're\",\n",
       " \"you've\",\n",
       " 'your',\n",
       " 'yours',\n",
       " 'yourself',\n",
       " 'yourselves'}"
      ]
     },
     "execution_count": 2,
     "metadata": {},
     "output_type": "execute_result"
    }
   ],
   "source": [
    "stemmer = PorterStemmer()\n",
    "stop_words = set(stopwords.words('english'))\n",
    "stop_words"
   ]
  },
  {
   "cell_type": "code",
   "execution_count": 3,
   "id": "5cf17ef1",
   "metadata": {},
   "outputs": [
    {
     "data": {
      "text/plain": [
       "0                excit job opportun lead tech compani !\n",
       "1       unsatisfactori work environ , would recommend .\n",
       "2                     great team , fantast workplac ! '\n",
       "3                          terribl manag , avoid cost .\n",
       "4                        promis career growth develop .\n",
       "5                horribl work-lif balanc , stress job .\n",
       "6                      awesom colleagu , pleasur work !\n",
       "7                    worst experi ever , toxic cultur .\n",
       "8               excit new career opportun dynam field !\n",
       "9           avoid compani like plagu , terribl experi .\n",
       "10              posit work atmospher , motiv colleagu .\n",
       "11                     extrem disorgan , '' recommend .\n",
       "12             except benefit perk , great place work !\n",
       "13        unfair treatment employe , high turnov rate .\n",
       "14                         innov project support team .\n",
       "15              hostil work environ , constant stress .\n",
       "16              challeng assign , great career growth .\n",
       "17                 toxic offic polit , manag incompet .\n",
       "18       excit career prospect , great learn opportun !\n",
       "19            horribl work-lif balanc , avoid compani .\n",
       "20              promis career opportun recent graduat .\n",
       "21                               repetit task , excit .\n",
       "22                        friendli colleagu , low pay .\n",
       "23                   stabl job , lack advanc opportun .\n",
       "24              excit project , great work-lif balanc .\n",
       "25             averag work environ , neither good bad .\n",
       "26                innov compani cultur , lot challeng .\n",
       "27          satisfactori work experi , decent compens .\n",
       "28                       support manag team , low pay .\n",
       "29                   lack divers inclus , need improv .\n",
       "30                steadi employ , particularli fulfil .\n",
       "31           flexibl work hour , limit growth potenti .\n",
       "32                    excel benefit , stress workload .\n",
       "33              adequ work-lif balanc , averag salari .\n",
       "34                 posit compani cultur , room improv .\n",
       "35                hostil work environ , decent salari .\n",
       "36    profession growth opportun , mix work atmospher .\n",
       "37                        effici manag , monoton task .\n",
       "38                      engag project , low job secur .\n",
       "39                   decent job stabil , unexcit task .\n",
       "Name: text, dtype: object"
      ]
     },
     "execution_count": 3,
     "metadata": {},
     "output_type": "execute_result"
    }
   ],
   "source": [
    "def preprocess_text(text):\n",
    "    words = word_tokenize(text)\n",
    "    words = [stemmer.stem(word) for word in words if word not in stop_words]\n",
    "    return ' '.join(words)\n",
    "\n",
    "df['text'] = df['text'].apply(preprocess_text)\n",
    "df['text']"
   ]
  },
  {
   "cell_type": "code",
   "execution_count": 4,
   "id": "7f948c47",
   "metadata": {},
   "outputs": [
    {
     "data": {
      "text/plain": [
       "39                   decent job stabil , unexcit task .\n",
       "6                      awesom colleagu , pleasur work !\n",
       "25             averag work environ , neither good bad .\n",
       "9           avoid compani like plagu , terribl experi .\n",
       "13        unfair treatment employe , high turnov rate .\n",
       "31           flexibl work hour , limit growth potenti .\n",
       "34                 posit compani cultur , room improv .\n",
       "8               excit new career opportun dynam field !\n",
       "17                 toxic offic polit , manag incompet .\n",
       "24              excit project , great work-lif balanc .\n",
       "0                excit job opportun lead tech compani !\n",
       "33              adequ work-lif balanc , averag salari .\n",
       "5                horribl work-lif balanc , stress job .\n",
       "11                     extrem disorgan , '' recommend .\n",
       "1       unsatisfactori work environ , would recommend .\n",
       "29                   lack divers inclus , need improv .\n",
       "21                               repetit task , excit .\n",
       "2                     great team , fantast workplac ! '\n",
       "30                steadi employ , particularli fulfil .\n",
       "36    profession growth opportun , mix work atmospher .\n",
       "3                          terribl manag , avoid cost .\n",
       "35                hostil work environ , decent salari .\n",
       "23                   stabl job , lack advanc opportun .\n",
       "32                    excel benefit , stress workload .\n",
       "10              posit work atmospher , motiv colleagu .\n",
       "22                        friendli colleagu , low pay .\n",
       "18       excit career prospect , great learn opportun !\n",
       "20              promis career opportun recent graduat .\n",
       "7                    worst experi ever , toxic cultur .\n",
       "14                         innov project support team .\n",
       "28                       support manag team , low pay .\n",
       "38                      engag project , low job secur .\n",
       "Name: text, dtype: object"
      ]
     },
     "execution_count": 4,
     "metadata": {},
     "output_type": "execute_result"
    }
   ],
   "source": [
    "# Split the data into training and testing sets\n",
    "X = df['text']\n",
    "y = df['sentiment']\n",
    "\n",
    "X_train, X_test, y_train, y_test = train_test_split(X, y, test_size=0.2, random_state=42)\n",
    "X_train"
   ]
  },
  {
   "cell_type": "code",
   "execution_count": 5,
   "id": "b5b524da",
   "metadata": {},
   "outputs": [
    {
     "data": {
      "text/plain": [
       "19      horribl work-lif balanc , avoid compani .\n",
       "16        challeng assign , great career growth .\n",
       "15        hostil work environ , constant stress .\n",
       "26          innov compani cultur , lot challeng .\n",
       "4                  promis career growth develop .\n",
       "12       except benefit perk , great place work !\n",
       "37                  effici manag , monoton task .\n",
       "27    satisfactori work experi , decent compens .\n",
       "Name: text, dtype: object"
      ]
     },
     "execution_count": 5,
     "metadata": {},
     "output_type": "execute_result"
    }
   ],
   "source": [
    "X_test"
   ]
  },
  {
   "cell_type": "code",
   "execution_count": 6,
   "id": "59019db7",
   "metadata": {},
   "outputs": [
    {
     "data": {
      "text/plain": [
       "39    Negative\n",
       "6     Positive\n",
       "25    Positive\n",
       "9     Negative\n",
       "13    Negative\n",
       "31    Negative\n",
       "34    Positive\n",
       "8     Positive\n",
       "17    Negative\n",
       "24    Positive\n",
       "0     Positive\n",
       "33    Negative\n",
       "5     Negative\n",
       "11    Negative\n",
       "1     Negative\n",
       "29    Negative\n",
       "21    Negative\n",
       "2     Positive\n",
       "30    Positive\n",
       "36    Negative\n",
       "3     Negative\n",
       "35    Negative\n",
       "23    Negative\n",
       "32    Positive\n",
       "10    Positive\n",
       "22    Negative\n",
       "18    Positive\n",
       "20    positive\n",
       "7     Negative\n",
       "14    Positive\n",
       "28    Positive\n",
       "38    Positive\n",
       "Name: sentiment, dtype: object"
      ]
     },
     "execution_count": 6,
     "metadata": {},
     "output_type": "execute_result"
    }
   ],
   "source": [
    "y_train"
   ]
  },
  {
   "cell_type": "code",
   "execution_count": 7,
   "id": "311c6e6b",
   "metadata": {},
   "outputs": [
    {
     "data": {
      "text/plain": [
       "19    Negative\n",
       "16    Positive\n",
       "15    Negative\n",
       "26    Positive\n",
       "4     Positive\n",
       "12    Positive\n",
       "37    Positive\n",
       "27    Positive\n",
       "Name: sentiment, dtype: object"
      ]
     },
     "execution_count": 7,
     "metadata": {},
     "output_type": "execute_result"
    }
   ],
   "source": [
    "y_test"
   ]
  },
  {
   "cell_type": "code",
   "execution_count": 8,
   "id": "e6c88113",
   "metadata": {},
   "outputs": [
    {
     "data": {
      "text/plain": [
       "MultinomialNB()"
      ]
     },
     "execution_count": 8,
     "metadata": {},
     "output_type": "execute_result"
    }
   ],
   "source": [
    "# Convert text data into TF-IDF features\n",
    "tfidf_vectorizer = TfidfVectorizer()\n",
    "X_train_tfidf = tfidf_vectorizer.fit_transform(X_train)\n",
    "X_test_tfidf = tfidf_vectorizer.transform(X_test)\n",
    "\n",
    "# Train a Naive Bayes classifier\n",
    "naive_bayes = MultinomialNB()\n",
    "naive_bayes.fit(X_train_tfidf, y_train)"
   ]
  },
  {
   "cell_type": "code",
   "execution_count": 9,
   "id": "babd4f34",
   "metadata": {},
   "outputs": [
    {
     "data": {
      "text/plain": [
       "array(['Negative', 'Positive', 'Negative', 'Positive', 'Negative',\n",
       "       'Positive', 'Negative', 'Negative'], dtype='<U8')"
      ]
     },
     "execution_count": 9,
     "metadata": {},
     "output_type": "execute_result"
    }
   ],
   "source": [
    "# Make predictions on the test set\n",
    "y_pred = naive_bayes.predict(X_test_tfidf)\n",
    "y_pred"
   ]
  },
  {
   "cell_type": "code",
   "execution_count": 10,
   "id": "8a429d0f",
   "metadata": {},
   "outputs": [
    {
     "name": "stdout",
     "output_type": "stream",
     "text": [
      "Accuracy: 0.625\n",
      "\n",
      "Classification Report:\n",
      "               precision    recall  f1-score   support\n",
      "\n",
      "    Negative       0.40      1.00      0.57         2\n",
      "    Positive       1.00      0.50      0.67         6\n",
      "\n",
      "    accuracy                           0.62         8\n",
      "   macro avg       0.70      0.75      0.62         8\n",
      "weighted avg       0.85      0.62      0.64         8\n",
      "\n"
     ]
    }
   ],
   "source": [
    "# Evaluate the model\n",
    "accuracy = accuracy_score(y_test, y_pred)\n",
    "print(\"Accuracy:\", accuracy)\n",
    "print(\"\\nClassification Report:\\n\", classification_report(y_test, y_pred))"
   ]
  },
  {
   "cell_type": "code",
   "execution_count": 11,
   "id": "a62c28bc",
   "metadata": {},
   "outputs": [
    {
     "data": {
      "image/png": "[encoded data removed]",
      "text/plain": [
       "<Figure size 576x432 with 2 Axes>"
      ]
     },
     "metadata": {
      "needs_background": "light"
     },
     "output_type": "display_data"
    }
   ],
   "source": [
    "import matplotlib.pyplot as plt\n",
    "import seaborn as sns\n",
    "\n",
    "# Confusion Matrix\n",
    "from sklearn.metrics import confusion_matrix\n",
    "confusion = confusion_matrix(y_test, y_pred)\n",
    "\n",
    "# Plot the confusion matrix\n",
    "plt.figure(figsize=(8, 6))\n",
    "sns.heatmap(confusion, annot=True, fmt=\"d\", cmap=\"Blues\")\n",
    "plt.xlabel(\"Predicted Labels\")\n",
    "plt.ylabel(\"True Labels\")\n",
    "plt.title(\"Confusion Matrix\")\n",
    "plt.show()"
   ]
  },
  {
   "cell_type": "code",
   "execution_count": 1,
   "id": "519492cc",
   "metadata": {},
   "outputs": [],
   "source": [
    "from tensorflow.keras.datasets import imdb\n",
    "from tensorflow.keras.preprocessing.sequence import pad_sequences\n",
    "from tensorflow.keras.models import Sequential\n",
    "from tensorflow.keras.layers import Embedding, LSTM, Dense"
   ]
  },
  {
   "cell_type": "code",
   "execution_count": 2,
   "id": "d2d7e13a",
   "metadata": {},
   "outputs": [],
   "source": [
    "max_features = 5000  # Number of most frequent words to consider\n",
    "max_len = 100  # Maximum sequence length\n",
    "batch_size = 32"
   ]
  },
  {
   "cell_type": "code",
   "execution_count": 3,
   "id": "478fb31d",
   "metadata": {},
   "outputs": [],
   "source": [
    "(x_train, y_train), (x_test, y_test) = imdb.load_data(num_words=max_features)\n",
    "\n",
    "# Pad sequences to ensure consistent length\n",
    "x_train = pad_sequences(x_train, maxlen=max_len)\n",
    "x_test = pad_sequences(x_test, maxlen=max_len)"
   ]
  },
  {
   "cell_type": "code",
   "execution_count": 4,
   "id": "198c08bf",
   "metadata": {},
   "outputs": [
    {
     "name": "stdout",
     "output_type": "stream",
     "text": [
      "Model: \"sequential\"\n",
      "_________________________________________________________________\n",
      " Layer (type)                Output Shape              Param #   \n",
      "=================================================================\n",
      " embedding (Embedding)       (None, 100, 32)           160000    \n",
      "                                                                 \n",
      " lstm (LSTM)                 (None, 100)               53200     \n",
      "                                                                 \n",
      " dense (Dense)               (None, 1)                 101       \n",
      "                                                                 \n",
      "=================================================================\n",
      "Total params: 213,301\n",
      "Trainable params: 213,301\n",
      "Non-trainable params: 0\n",
      "_________________________________________________________________\n",
      "None\n"
     ]
    }
   ],
   "source": [
    "# Create the LSTM model\n",
    "model = Sequential()\n",
    "\n",
    "model.add(Embedding(max_features, 32, input_length=max_len))# Embedding layer\n",
    "\n",
    "model.add(LSTM(100))# LSTM layer\n",
    "\n",
    "model.add(Dense(1, activation='sigmoid'))# Output layer\n",
    "#optimzer (defined loss funct.) SGD(stochastic gradient descent)\n",
    "#ADAM(adaptive momentum estimation) RMSprop(adjust learnig rate) #adagrad(histroical gradient descent)\n",
    "model.compile(optimizer='adam', loss='binary_crossentropy', metrics=['accuracy'])\n",
    "print(model.summary())"
   ]
  },
  {
   "cell_type": "code",
   "execution_count": 5,
   "id": "382c47ca",
   "metadata": {},
   "outputs": [],
   "source": [
    "import matplotlib.pyplot as plt"
   ]
  },
  {
   "cell_type": "code",
   "execution_count": 6,
   "id": "51c7776a",
   "metadata": {},
   "outputs": [
    {
     "name": "stdout",
     "output_type": "stream",
     "text": [
      "Epoch 1/10\n",
      "625/625 [==============================] - 42s 64ms/step - loss: 0.4616 - accuracy: 0.7739 - val_loss: 0.3708 - val_accuracy: 0.8392\n",
      "Epoch 2/10\n",
      "625/625 [==============================] - 39s 62ms/step - loss: 0.3095 - accuracy: 0.8730 - val_loss: 0.3576 - val_accuracy: 0.8468\n",
      "Epoch 3/10\n",
      "625/625 [==============================] - 38s 60ms/step - loss: 0.2677 - accuracy: 0.8929 - val_loss: 0.3618 - val_accuracy: 0.8428\n",
      "Epoch 4/10\n",
      "625/625 [==============================] - 38s 61ms/step - loss: 0.2234 - accuracy: 0.9118 - val_loss: 0.3941 - val_accuracy: 0.8400\n",
      "Epoch 5/10\n",
      "625/625 [==============================] - 37s 60ms/step - loss: 0.1849 - accuracy: 0.9309 - val_loss: 0.4221 - val_accuracy: 0.8334\n",
      "Epoch 6/10\n",
      "625/625 [==============================] - 40s 63ms/step - loss: 0.1544 - accuracy: 0.9428 - val_loss: 0.4556 - val_accuracy: 0.8314\n",
      "Epoch 7/10\n",
      "625/625 [==============================] - 35s 56ms/step - loss: 0.1272 - accuracy: 0.9553 - val_loss: 0.5080 - val_accuracy: 0.8288\n",
      "Epoch 8/10\n",
      "625/625 [==============================] - 38s 61ms/step - loss: 0.1052 - accuracy: 0.9629 - val_loss: 0.5840 - val_accuracy: 0.8234\n",
      "Epoch 9/10\n",
      "625/625 [==============================] - 36s 57ms/step - loss: 0.0798 - accuracy: 0.9724 - val_loss: 0.6186 - val_accuracy: 0.8244\n",
      "Epoch 10/10\n",
      "625/625 [==============================] - 35s 56ms/step - loss: 0.0698 - accuracy: 0.9764 - val_loss: 0.6431 - val_accuracy: 0.8240\n"
     ]
    },
    {
     "data": {
      "image/png": "[encoded data removed]",
      "text/plain": [
       "<Figure size 864x432 with 2 Axes>"
      ]
     },
     "metadata": {
      "needs_background": "light"
     },
     "output_type": "display_data"
    }
   ],
   "source": [
    "history = model.fit(x_train, y_train, epochs=10, batch_size=batch_size, validation_split=0.2)\n",
    "plt.figure(figsize=(12, 6))\n",
    "\n",
    "# Plot training & validation accuracy values\n",
    "plt.subplot(1, 2, 1)\n",
    "plt.plot(history.history['accuracy'])\n",
    "plt.plot(history.history['val_accuracy'])\n",
    "plt.title('Model accuracy')\n",
    "plt.xlabel('Epoch')\n",
    "plt.ylabel('Accuracy')\n",
    "plt.legend(['Train', 'Validation'], loc='upper left')\n",
    "\n",
    "# Plot training & validation loss values\n",
    "plt.subplot(1, 2, 2)\n",
    "plt.plot(history.history['loss'])\n",
    "plt.plot(history.history['val_loss'])\n",
    "plt.title('Model loss')\n",
    "plt.xlabel('Epoch')\n",
    "plt.ylabel('Loss')\n",
    "plt.legend(['Train', 'Validation'], loc='upper left')\n",
    "\n",
    "plt.tight_layout()\n",
    "plt.show()"
   ]
  },
  {
   "cell_type": "code",
   "execution_count": 1,
   "id": "0e114a70",
   "metadata": {},
   "outputs": [],
   "source": [
    "import tkinter as tk\n",
    "from tkinter import ttk\n",
    "from sklearn.feature_extraction.text import TfidfVectorizer\n",
    "from sklearn.model_selection import train_test_split\n",
    "from sklearn.naive_bayes import MultinomialNB\n",
    "from sklearn.metrics import accuracy_score, classification_report\n",
    "from nltk.corpus import stopwords\n",
    "from nltk.tokenize import word_tokenize\n",
    "from nltk.stem import PorterStemmer\n",
    "import pandas as pd\n",
    "\n",
    "# Read data from Excel\n",
    "df = pd.read_excel(\"C:\\\\Users\\\\HP\\\\Desktop\\\\Placement_Data.xlsx\")\n",
    "\n",
    "# Preprocess the text data (same preprocessing as in the previous code)\n",
    "\n",
    "stemmer = PorterStemmer()\n",
    "stop_words = set(stopwords.words('english'))\n",
    "\n",
    "def preprocess_text(text):\n",
    "    # Tokenize, remove stop words, and apply stemming\n",
    "    words = word_tokenize(text)\n",
    "    words = [stemmer.stem(word) for word in words if word not in stop_words]\n",
    "    return ' '.join(words)\n",
    "\n",
    "df['text'] = df['text'].apply(preprocess_text)\n",
    "\n",
    "# Split the data into training and testing sets\n",
    "X = df['text']\n",
    "y = df['sentiment']\n",
    "\n",
    "X_train, X_test, y_train, y_test = train_test_split(X, y, test_size=0.2, random_state=42)\n",
    "\n",
    "# Convert text data into TF-IDF features\n",
    "tfidf_vectorizer = TfidfVectorizer()\n",
    "X_train_tfidf = tfidf_vectorizer.fit_transform(X_train)\n",
    "X_test_tfidf = tfidf_vectorizer.transform(X_test)\n",
    "\n",
    "# Train a Naive Bayes classifier\n",
    "naive_bayes = MultinomialNB()\n",
    "naive_bayes.fit(X_train_tfidf, y_train)\n",
    "\n",
    "# Create the GUI\n",
    "def analyze_sentiment():\n",
    "    user_input = user_entry.get()\n",
    "    user_input = preprocess_text(user_input)\n",
    "    input_tfidf = tfidf_vectorizer.transform([user_input])\n",
    "    prediction = naive_bayes.predict(input_tfidf)\n",
    "    result_label.config(text=f\"Predicted Sentiment: {prediction[0]}\")\n",
    "\n",
    "# Main application window\n",
    "root = tk.Tk()\n",
    "root.title(\"Sentiment Analysis\")\n",
    "\n",
    "# User input entry\n",
    "user_entry = ttk.Entry(root, width=40)\n",
    "user_entry.grid(row=0, column=0, padx=10, pady=10)\n",
    "\n",
    "# Analyze button\n",
    "analyze_button = ttk.Button(root, text=\"Analyze Sentiment\", command=analyze_sentiment)\n",
    "analyze_button.grid(row=1, column=0, padx=10, pady=10)\n",
    "\n",
    "# Result label\n",
    "result_label = ttk.Label(root, text=\"\")\n",
    "result_label.grid(row=2, column=0, padx=10, pady=10)\n",
    "\n",
    "# Run the GUI\n",
    "root.mainloop()\n"
   ]
  }
 ],
 "metadata": {
  "kernelspec": {
   "display_name": "Python 3 (ipykernel)",
   "language": "python",
   "name": "python3"
  },
  "language_info": {
   "codemirror_mode": {
    "name": "ipython",
    "version": 3
   },
   "file_extension": ".py",
   "mimetype": "text/x-python",
   "name": "python",
   "nbconvert_exporter": "python",
   "pygments_lexer": "ipython3",
   "version": "3.9.13"
  }
 },
 "nbformat": 4,
 "nbformat_minor": 5
}
